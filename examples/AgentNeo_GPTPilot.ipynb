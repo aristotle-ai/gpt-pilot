{
  "cells": [
    {
      "cell_type": "markdown",
      "metadata": {},
      "source": [
        "# AgentNeo GPTPilot"
      ]
    },
    {
      "cell_type": "code",
      "execution_count": 2,
      "metadata": {
        "colab": {
          "base_uri": "https://localhost:8080/"
        },
        "id": "MxVxYGOJyey4",
        "outputId": "05ec7455-f452-4dc7-a42c-a85cdc4f4f37"
      },
      "outputs": [
        {
          "name": "stdout",
          "output_type": "stream",
          "text": [
            "\u001b[2K     \u001b[90m━━━━━━━━━━━━━━━━━━━━━━━━━━━━━━━━━━━━━━━━\u001b[0m \u001b[32m50.4/50.4 kB\u001b[0m \u001b[31m3.2 MB/s\u001b[0m eta \u001b[36m0:00:00\u001b[0m\n",
            "\u001b[2K   \u001b[90m━━━━━━━━━━━━━━━━━━━━━━━━━━━━━━━━━━━━━━━━\u001b[0m \u001b[32m1.0/1.0 MB\u001b[0m \u001b[31m37.8 MB/s\u001b[0m eta \u001b[36m0:00:00\u001b[0m\n",
            "\u001b[2K   \u001b[90m━━━━━━━━━━━━━━━━━━━━━━━━━━━━━━━━━━━━━━━━\u001b[0m \u001b[32m365.7/365.7 kB\u001b[0m \u001b[31m25.0 MB/s\u001b[0m eta \u001b[36m0:00:00\u001b[0m\n",
            "\u001b[2K   \u001b[90m━━━━━━━━━━━━━━━━━━━━━━━━━━━━━━━━━━━━━━━━\u001b[0m \u001b[32m54.5/54.5 kB\u001b[0m \u001b[31m3.6 MB/s\u001b[0m eta \u001b[36m0:00:00\u001b[0m\n",
            "\u001b[2K   \u001b[90m━━━━━━━━━━━━━━━━━━━━━━━━━━━━━━━━━━━━━━━━\u001b[0m \u001b[32m76.4/76.4 kB\u001b[0m \u001b[31m5.3 MB/s\u001b[0m eta \u001b[36m0:00:00\u001b[0m\n",
            "\u001b[2K   \u001b[90m━━━━━━━━━━━━━━━━━━━━━━━━━━━━━━━━━━━━━━━━\u001b[0m \u001b[32m77.9/77.9 kB\u001b[0m \u001b[31m5.5 MB/s\u001b[0m eta \u001b[36m0:00:00\u001b[0m\n",
            "\u001b[2K   \u001b[90m━━━━━━━━━━━━━━━━━━━━━━━━━━━━━━━━━━━━━━━━\u001b[0m \u001b[32m318.9/318.9 kB\u001b[0m \u001b[31m21.0 MB/s\u001b[0m eta \u001b[36m0:00:00\u001b[0m\n",
            "\u001b[2K   \u001b[90m━━━━━━━━━━━━━━━━━━━━━━━━━━━━━━━━━━━━━━━━\u001b[0m \u001b[32m396.4/396.4 kB\u001b[0m \u001b[31m24.8 MB/s\u001b[0m eta \u001b[36m0:00:00\u001b[0m\n",
            "\u001b[2K   \u001b[90m━━━━━━━━━━━━━━━━━━━━━━━━━━━━━━━━━━━━━━━━\u001b[0m \u001b[32m288.5/288.5 kB\u001b[0m \u001b[31m20.2 MB/s\u001b[0m eta \u001b[36m0:00:00\u001b[0m\n",
            "\u001b[2K   \u001b[90m━━━━━━━━━━━━━━━━━━━━━━━━━━━━━━━━━━━━━━━━\u001b[0m \u001b[32m141.9/141.9 kB\u001b[0m \u001b[31m10.2 MB/s\u001b[0m eta \u001b[36m0:00:00\u001b[0m\n",
            "\u001b[2K   \u001b[90m━━━━━━━━━━━━━━━━━━━━━━━━━━━━━━━━━━━━━━━━\u001b[0m \u001b[32m58.3/58.3 kB\u001b[0m \u001b[31m4.0 MB/s\u001b[0m eta \u001b[36m0:00:00\u001b[0m\n",
            "\u001b[?25h"
          ]
        }
      ],
      "source": [
        "!pip install agentneo -U -q"
      ]
    },
    {
      "cell_type": "markdown",
      "metadata": {
        "id": "qXWXJZSXwMPf"
      },
      "source": [
        "## Authetication"
      ]
    },
    {
      "cell_type": "code",
      "execution_count": 3,
      "metadata": {
        "id": "UIZE0SlYv3XE"
      },
      "outputs": [],
      "source": [
        "import os\n",
        "from agentneo import AgentNeo, Project, Dataset, Experiment, Tracer"
      ]
    },
    {
      "cell_type": "code",
      "execution_count": 5,
      "metadata": {
        "colab": {
          "base_uri": "https://localhost:8080/"
        },
        "id": "JOcDKnn3wLh0",
        "outputId": "2ad9c403-3d20-4da7-e9d3-859d7bdb21af"
      },
      "outputs": [
        {
          "name": "stdout",
          "output_type": "stream",
          "text": [
            "Existing user found for email: test_user@raga.ai\n",
            "Please keep your access key and secret key handy for future logins:\n",
            "Access Key: qmqFcblbBgJHK-m3CR7uCQ\n",
            "Secret Key: WMDW1JjibxAjtQ6aKLlAvguCTJWMcCy8fL4hZhqOLjo\n"
          ]
        }
      ],
      "source": [
        "BASE_URL = \"http://74.249.60.46:5000\"\n",
        "\n",
        "agent_session = AgentNeo(email=\"test_user@raga.ai\", base_url=BASE_URL)"
      ]
    },
    {
      "cell_type": "markdown",
      "metadata": {
        "id": "8mV825lrwVKb"
      },
      "source": [
        "## Create Project"
      ]
    },
    {
      "cell_type": "code",
      "execution_count": 6,
      "metadata": {
        "colab": {
          "base_uri": "https://localhost:8080/"
        },
        "id": "VlwNvmyjwTNb",
        "outputId": "421c29b3-62a1-42a4-9aba-d5c2660df647"
      },
      "outputs": [
        {
          "name": "stdout",
          "output_type": "stream",
          "text": [
            "Project 'GPT-Pilot-Eval' created successfully with ID: 24\n"
          ]
        }
      ],
      "source": [
        "project_created = Project(session=agent_session, project_name=\"GPT-Pilot-Eval\", description=\"A test project\").create()\n",
        "project_id = project_created['id']"
      ]
    },
    {
      "cell_type": "markdown",
      "metadata": {
        "id": "sPLxkJX3wXsW"
      },
      "source": [
        "## Dataset"
      ]
    },
    {
      "cell_type": "code",
      "execution_count": 7,
      "metadata": {
        "colab": {
          "base_uri": "https://localhost:8080/"
        },
        "id": "IdMHNpu3wacV",
        "outputId": "2fb79554-82a2-421b-99d3-6c8b1f8a4f5c"
      },
      "outputs": [
        {
          "data": {
            "text/plain": [
              "{'id': 19,\n",
              " 'message': 'Dataset created successfully',\n",
              " 'name': 'Dataset_GPTPilot',\n",
              " 'project_id': 24,\n",
              " 'trace_id': 21}"
            ]
          },
          "execution_count": 7,
          "metadata": {},
          "output_type": "execute_result"
        }
      ],
      "source": [
        "# Create a dataset from a trace\n",
        "dataset = Dataset(\n",
        "    session=agent_session,\n",
        "    project_id=project_id,\n",
        "    dataset_name=\"Dataset_GPTPilot\",\n",
        "    description=\"A test dataset\"\n",
        ")\n",
        "\n",
        "dataset_traced = dataset.from_trace(trace_id=21, trace_filter=None)\n",
        "dataset_traced"
      ]
    },
    {
      "cell_type": "markdown",
      "metadata": {
        "id": "S63m3EbXwbfM"
      },
      "source": [
        "## Experiment"
      ]
    },
    {
      "cell_type": "code",
      "execution_count": 16,
      "metadata": {
        "id": "uuUxybA7zk0y"
      },
      "outputs": [],
      "source": [
        "from google.colab import userdata"
      ]
    },
    {
      "cell_type": "code",
      "execution_count": 8,
      "metadata": {
        "id": "4UOGw8K0weac"
      },
      "outputs": [],
      "source": [
        "# Create Experiment\n",
        "experiment = Experiment(\n",
        "        session=agent_session,\n",
        "        experiment_name=\"Experiment_GPTPilot1\",\n",
        "        description=\"A test experiment\",\n",
        "        dataset_id=dataset_traced['id'],\n",
        "        project_id=dataset_traced['project_id']\n",
        "    )\n",
        "\n",
        "experiment_created = experiment.create()"
      ]
    },
    {
      "cell_type": "code",
      "execution_count": 17,
      "metadata": {
        "colab": {
          "base_uri": "https://localhost:8080/"
        },
        "id": "BKNC8Bi2woBZ",
        "outputId": "f75e0599-9dcf-4dc9-c5f2-2c312f1f5e52"
      },
      "outputs": [
        {
          "name": "stdout",
          "output_type": "stream",
          "text": [
            "explanation: The tool selections made by the AI system were largely appropriate and effective for the tasks at hand. The chosen tools, such as 'Code Monkey' for code generation and 'Tech Lead' for overseeing the development process, were relevant to the tasks of creating and managing the project files. The AI demonstrated a clear understanding of the task requirements, particularly in generating the necessary HTML and server files for the application. \n",
            "\n",
            "Strengths include:\n",
            "1. **Relevance**: The tools selected were well-aligned with the tasks, particularly for coding and project management.\n",
            "2. **Context Understanding**: The AI showed a good grasp of the project requirements, leading to appropriate tool choices for generating code and documentation.\n",
            "\n",
            "However, there are areas for improvement:\n",
            "1. **Efficiency**: While the tools were relevant, there may have been more efficient options available, such as using a dedicated documentation tool for generating the README.md file instead of relying on a code generation tool.\n",
            "2. **Alternatives**: The AI could have considered additional tools that specialize in documentation or project management, which might have streamlined the process further.\n",
            "\n",
            "Overall, the tool selections were effective, but there is room for improvement in exploring alternative tools that could enhance efficiency and effectiveness in future tasks.\n",
            "tool_selection_accuracy: 0.85\n"
          ]
        }
      ],
      "source": [
        "# Execute App Tool Selection Accuracy\n",
        "exp = experiment.execute(metrics=[\n",
        "    {\"name\": \"app_tool_selection_accuracy\", \"config\": {\"model\": \"gpt-4o-mini\", \"OPENAI_API_KEY\": userdata.get('OPENAI_API_KEY')}},\n",
        "])\n",
        "\n",
        "for result in exp['results']:\n",
        "    for key, value in result.items():\n",
        "        print(f\"{key}: {value}\")"
      ]
    },
    {
      "cell_type": "code",
      "execution_count": 18,
      "metadata": {
        "colab": {
          "base_uri": "https://localhost:8080/"
        },
        "id": "UxPtcc9hwpoI",
        "outputId": "ade5a634-d3f2-4b6a-9e32-5fe6b4856925"
      },
      "outputs": [
        {
          "name": "stdout",
          "output_type": "stream",
          "text": [
            "explanation: The goal decomposition for the original task of creating a simple static HTML page is generally effective, but there are areas for improvement. \n",
            "\n",
            "1. **Completeness**: The sub-tasks cover most aspects of the original goal, including setting up the environment, creating necessary files, and running the server. However, there could be additional sub-tasks related to testing and validation of the application, which are not explicitly mentioned. \n",
            "\n",
            "2. **Granularity**: The sub-tasks are broken down to a reasonable level of detail, especially in the steps for creating files and installing dependencies. However, some steps could be further refined to enhance clarity, such as specifying the exact commands to run in a more structured manner. \n",
            "\n",
            "3. **Logical Sequence**: The order of the sub-tasks is mostly logical, following a clear progression from setup to execution. However, there are instances where the flow could be improved, such as grouping related tasks together more effectively. \n",
            "\n",
            "4. **Independence**: Many sub-tasks can be executed independently, particularly those related to file creation and installation. However, some tasks are interdependent, which could lead to confusion if not clearly indicated. \n",
            "\n",
            "5. **Clarity**: While most sub-tasks are clearly defined, there are some ambiguities, particularly in the descriptions of certain steps. For example, the instructions for creating files could be more explicit about the content that should be included. \n",
            "\n",
            "6. **Efficiency**: The decomposition avoids significant redundancy, but there are instances where similar tasks (like creating files) could be consolidated to streamline the process. \n",
            "\n",
            "7. **Scalability**: The approach taken in this decomposition could work for similar but more complex goals, but it would require careful consideration of additional dependencies and potential complexities that may arise. \n",
            "\n",
            "Overall, the decomposition is effective but could benefit from improved clarity, completeness, and logical grouping of tasks. The score of 0.75 reflects these strengths and areas for improvement.\n",
            "goal_decomposition_efficiency: 0.75\n"
          ]
        }
      ],
      "source": [
        "# Execute App Goal Decomposition Efficiency\n",
        "exp = experiment.execute(metrics=[\n",
        "    {\"name\": \"app_goal_decomposition_efficiency\", \"config\": {\"model\": \"gpt-4o-mini\", \"OPENAI_API_KEY\": userdata.get('OPENAI_API_KEY')}},\n",
        "])\n",
        "\n",
        "for result in exp['results']:\n",
        "    for key, value in result.items():\n",
        "        print(f\"{key}: {value}\")"
      ]
    },
    {
      "cell_type": "code",
      "execution_count": 19,
      "metadata": {
        "colab": {
          "base_uri": "https://localhost:8080/"
        },
        "id": "jQVd0IImwrP1",
        "outputId": "a849bf60-373f-4547-d585-2923cb63f42e"
      },
      "outputs": [
        {
          "name": "stdout",
          "output_type": "stream",
          "text": [
            "explanation: {\n",
            "  \"score\": 0.68,\n",
            "  \"explanation\": \"The tool usage efficiency of the AI system shows a mix of effective and redundant calls. The sequence of tool usage was generally logical, with tools like 'Architect' and 'Tech Lead' being used in a timely manner to plan and guide the project. However, there were several instances of redundant calls, particularly with the 'Spec Writer' and 'Developer' tools, which did not seem to contribute significantly to the progression of the task. The AI did not effectively utilize the results from some tool calls, such as the multiple calls to 'Developer' that did not yield any output. Additionally, while the AI did adapt its tool usage based on intermediate results, it could have been more decisive in eliminating unnecessary calls. The overall goal of project generation was met, but the efficiency could be improved by streamlining the tool usage and reducing redundancy.\",\n",
            "  \"most_efficient_use\": \"The use of the 'Architect' tool to plan the project architecture was efficient, as it provided necessary structure for the development process.\",\n",
            "  \"inefficiency_identified\": \"Redundant calls to the 'Developer' tool that did not produce any output, which wasted time and resources.\",\n",
            "  \"improvement_suggestion\": \"Reduce the number of redundant tool calls by implementing a check to ensure that each tool's output is utilized effectively before making additional calls.\"\n",
            "}\n",
            "tool_usage_efficiency: 0.68\n"
          ]
        }
      ],
      "source": [
        "# Execute App Tool Usage Efficiency\n",
        "exp = experiment.execute(metrics=[\n",
        "    {\"name\": \"app_tool_usage_efficiency\", \"config\": {\"model\": \"gpt-4o-mini\", \"OPENAI_API_KEY\": userdata.get('OPENAI_API_KEY')}}\n",
        "])\n",
        "\n",
        "for result in exp['results']:\n",
        "    for key, value in result.items():\n",
        "        print(f\"{key}: {value}\")"
      ]
    },
    {
      "cell_type": "code",
      "execution_count": null,
      "metadata": {
        "id": "sHPvDpedy1b7"
      },
      "outputs": [],
      "source": []
    }
  ],
  "metadata": {
    "colab": {
      "provenance": []
    },
    "kernelspec": {
      "display_name": "Python 3",
      "name": "python3"
    },
    "language_info": {
      "name": "python"
    }
  },
  "nbformat": 4,
  "nbformat_minor": 0
}
